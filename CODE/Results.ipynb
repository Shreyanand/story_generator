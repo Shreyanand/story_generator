{
  "nbformat": 4,
  "nbformat_minor": 0,
  "metadata": {
    "colab": {
      "name": "Results.ipynb",
      "version": "0.3.2",
      "provenance": []
    },
    "kernelspec": {
      "name": "python3",
      "display_name": "Python 3"
    },
    "accelerator": "GPU"
  },
  "cells": [
    {
      "metadata": {
        "id": "-LADEuzQkSJ5",
        "colab_type": "text"
      },
      "cell_type": "markdown",
      "source": [
        "# **SETUP**"
      ]
    },
    {
      "metadata": {
        "id": "UORMoask22-X",
        "colab_type": "code",
        "outputId": "9f7afa17-e7f4-4ca3-dbcb-5a2c126a4699",
        "colab": {
          "base_uri": "https://localhost:8080/",
          "height": 68
        }
      },
      "cell_type": "code",
      "source": [
        "from os import path\n",
        "from google.colab import files\n",
        "import os\n",
        "from wheel.pep425tags import get_abbr_impl, get_impl_ver, get_abi_tag\n",
        "platform = '{}{}-{}'.format(get_abbr_impl(), get_impl_ver(), get_abi_tag())\n",
        "\n",
        "accelerator = 'cu80' if path.exists('/opt/bin/nvidia-smi') else 'cpu'\n",
        "print(accelerator)\n",
        "\n",
        "!pip install -q http://download.pytorch.org/whl/{accelerator}/torch-0.4.1-{platform}-linux_x86_64.whl torchvision\n",
        "import torch\n",
        "print(torch.__version__)\n",
        "print(torch.cuda.is_available())\n",
        "device = torch.device(\"cuda:0\")"
      ],
      "execution_count": 2,
      "outputs": [
        {
          "output_type": "stream",
          "text": [
            "cu80\n",
            "0.4.1\n",
            "True\n"
          ],
          "name": "stdout"
        }
      ]
    },
    {
      "metadata": {
        "id": "84596WmZmcxM",
        "colab_type": "code",
        "outputId": "24029e19-aae8-4adf-c44e-504cf35d69c9",
        "colab": {
          "base_uri": "https://localhost:8080/",
          "height": 54
        }
      },
      "cell_type": "code",
      "source": [
        "!pip install -U -q PyDrive\n",
        "from pydrive.auth import GoogleAuth\n",
        "from pydrive.drive import GoogleDrive\n",
        "from google.colab import auth\n",
        "from oauth2client.client import GoogleCredentials\n",
        "\n",
        "auth.authenticate_user()\n",
        "gauth = GoogleAuth()\n",
        "gauth.credentials = GoogleCredentials.get_application_default()\n",
        "drive = GoogleDrive(gauth)\n",
        "\n",
        "\n",
        "# f1 = drive.CreateFile({'id': '1cFyVZjK-T9b02H2-vpX_GuhTklqojKsa'})\n",
        "# f1.GetContentFile('test_vectors.npy')\n",
        "# print(\"Loaded test vectors\")\n",
        "\n",
        "# f1 = drive.CreateFile({'id': '1G6OhSk4aEHcFiQuobI9TIXfTNvJqiiMo'})\n",
        "# f1.GetContentFile('train_vectors.npy')\n",
        "# print(\"Loaded train vectors\")\n",
        "\n",
        "# f1 = drive.CreateFile({'id': '1KYx5JouFMbrIWbwyGaP1SHlGAT-uePOT'})\n",
        "# f1.GetContentFile('test_sentences.npy')\n",
        "\n",
        "# f1 = drive.CreateFile({'id': '134nqEfHiMDeUQquQCy5nokJmBFSwm-yc'})\n",
        "# f1.GetContentFile('train_sentences.npy')\n",
        "\n",
        "# f1 = drive.CreateFile({'id': '1ID2of27IM6halEUCQekl6RrpBRdComI-'})\n",
        "# f1.GetContentFile('model1.tar')\n",
        "# print(\"Loaded model1\")\n",
        "\n",
        "# f1 = drive.CreateFile({'id': '11_z3Kc4vNLPbHmeuF3H_9c9ewo0r0x2C'})\n",
        "# f1.GetContentFile('model2.tar')\n",
        "# print(\"Loaded model2\")\n",
        "\n",
        "# f1 = drive.CreateFile({'id': '192ZJf8L0C-BlZJUNIRC9ELjrFCTbeJHk'})\n",
        "# f1.GetContentFile('model3.tar')\n",
        "# print(\"Loaded model3\")\n",
        "\n",
        "# f1 = drive.CreateFile({'id': '1zNjRPk7EUB7xxelSjax2mCAhQJBfeHYQ'})\n",
        "# f1.GetContentFile('model4.tar')\n",
        "# print(\"Loaded model4\")\n",
        "\n",
        "all_files = [(name, os.path.getmtime(name)) for name in os.listdir()]\n",
        "print(all_files)\n",
        " "
      ],
      "execution_count": 3,
      "outputs": [
        {
          "output_type": "stream",
          "text": [
            "[('.config', 1544221350.396336), ('test_vectors.npy', 1544224600.2521), ('train_vectors.npy', 1544224632.2050755), ('model4.tar', 1544224684.863036), ('adc.json', 1544221350.432336), ('model1.tar', 1544224642.2520678), ('train_sentences.npy', 1544224634.2610738), ('model2.tar', 1544224656.7650568), ('model3.tar', 1544224671.0270462), ('test_sentences.npy', 1544224633.4190745), ('sample_data', 1544031593.0)]\n"
          ],
          "name": "stdout"
        }
      ]
    },
    {
      "metadata": {
        "id": "kuFEfEk629pm",
        "colab_type": "code",
        "colab": {}
      },
      "cell_type": "code",
      "source": [
        "import torch\n",
        "import torch.nn as nn\n",
        "import time\n",
        "from torch.autograd import Variable\n",
        "from torch.utils.data import Dataset\n",
        "import pandas as pd\n",
        "import numpy as np\n",
        "import seaborn as sns\n",
        "\n",
        "experiment = \"seperate_models\"\n",
        "\n",
        "train_vectors = np.load(\"train_vectors.npy\")\n",
        "train_sentences = np.load(\"train_sentences.npy\")\n",
        "\n",
        "vec = train_vectors[::5], train_vectors[1::5], train_vectors[2::5], train_vectors[3::5], train_vectors[4::5]\n",
        "sen = train_sentences[::5], train_sentences[1::5], train_sentences[2::5], train_sentences[3::5], train_sentences[4::5]\n",
        "\n",
        "dataset1 = np.asarray(vec[0:2])\n",
        "dataset2 = np.asarray(vec[0:3])\n",
        "dataset3 = np.asarray(vec[0:4])\n",
        "dataset4 = np.asarray(vec[0:5])\n",
        "\n",
        "\n",
        "sentences1 = np.asarray(sen[0:2])\n",
        "sentences2 = np.asarray(sen[0:3])\n",
        "sentences3 = np.asarray(sen[0:4])\n",
        "sentences4 = np.asarray(sen[0:5])\n",
        "\n",
        "\n",
        "\n",
        "test_vectors = np.load(\"test_vectors.npy\")\n",
        "test_sentences = np.load(\"test_sentences.npy\")\n",
        "\n",
        "\n",
        "vec = test_vectors[::5], test_vectors[1::5], test_vectors[2::5], test_vectors[3::5], test_vectors[4::5]\n",
        "sen = test_sentences[::5], test_sentences[1::5], test_sentences[2::5], test_sentences[3::5], test_sentences[4::5]\n",
        "\n",
        "test_dataset1 = np.asarray(vec[0:2])\n",
        "test_dataset2 = np.asarray(vec[0:3])\n",
        "test_dataset3 = np.asarray(vec[0:4])\n",
        "test_dataset4 = np.asarray(vec[0:5])\n",
        "\n",
        "vec = None\n",
        "\n",
        "test_sentences1 = np.asarray(sen[0:2])\n",
        "test_sentences2 = np.asarray(sen[0:3])\n",
        "test_sentences3 = np.asarray(sen[0:4])\n",
        "test_sentences4 = np.asarray(sen[0:5])\n",
        "\n",
        "sen = None\n"
      ],
      "execution_count": 0,
      "outputs": []
    },
    {
      "metadata": {
        "id": "GGn_a7IC3RMJ",
        "colab_type": "code",
        "colab": {}
      },
      "cell_type": "code",
      "source": [
        "class BasicGRU(nn.Module):\n",
        "    def __init__(self, hidden_size, n_layers=1):\n",
        "        super(BasicGRU, self).__init__()\n",
        "        self.n_layers = n_layers\n",
        "        self.hidden_size = hidden_size\n",
        "        self.gru = nn.GRU(hidden_size, hidden_size, n_layers, dropout=0, bidirectional=True)       \n",
        "        self.lin = nn.Linear(hidden_size, hidden_size)\n",
        "\n",
        "    def forward(self, input_seq, input_lengths, hidden=None):\n",
        "\n",
        "        packed = torch.nn.utils.rnn.pack_padded_sequence(input_seq, input_lengths, batch_first=True)\n",
        "\n",
        "        outputs, hidden = self.gru(packed, hidden)\n",
        "        \n",
        "        outputs, _ = torch.nn.utils.rnn.pad_packed_sequence(outputs , batch_first=True)\n",
        "\n",
        "        outputs = outputs[:, :, :self.hidden_size] + outputs[:, : ,self.hidden_size:]\n",
        "\n",
        "        output = self.lin(outputs[:,-1,:].unsqueeze(1))\n",
        "        return output"
      ],
      "execution_count": 0,
      "outputs": []
    },
    {
      "metadata": {
        "id": "pSPtYiJr3V3-",
        "colab_type": "code",
        "colab": {}
      },
      "cell_type": "code",
      "source": [
        "class StoryVectors(Dataset):\n",
        "\n",
        "    def __init__(self, dataset, sentences):\n",
        "        self.dataset = dataset\n",
        "        self.type = self.dataset.shape[0]\n",
        "        self.sen = sentences\n",
        "\n",
        "        \n",
        "\n",
        "    def __len__(self):\n",
        "        return self.dataset.shape[1]\n",
        "\n",
        "    def __getitem__(self, idx):\n",
        "      \n",
        "        if self.type == 2:\n",
        "            X = [self.dataset[0][idx]]\n",
        "            y = [self.dataset[1][idx]]\n",
        "            sentences = [self.sen[0][idx], self.sen[1][idx]]\n",
        "          \n",
        "          \n",
        "        elif self.type == 3:\n",
        "            X = [self.dataset[0][idx], self.dataset[1][idx]]\n",
        "            y = [self.dataset[2][idx]]\n",
        "            sentences = [self.sen[0][idx], self.sen[1][idx], self.sen[2][idx]]\n",
        "        \n",
        "        elif self.type == 4:\n",
        "            X = [self.dataset[0][idx], self.dataset[1][idx], self.dataset[2][idx]]\n",
        "            y = [self.dataset[3][idx]]\n",
        "            sentences = [self.sen[0][idx], self.sen[1][idx], self.sen[2][idx], self.sen[3][idx]]\n",
        "        \n",
        "        elif self.type == 5:\n",
        "            X = [self.dataset[0][idx], self.dataset[1][idx], self.dataset[2][idx], self.dataset[3][idx]]\n",
        "            y = [self.dataset[4][idx]]\n",
        "            sentences = [self.sen[0][idx], self.sen[1][idx], self.sen[2][idx], self.sen[3][idx], self.sen[4][idx]]\n",
        "        \n",
        "        \n",
        "        return [X, len(X), y, sentences]\n",
        "      \n",
        "def vocab_collate_func(batch):\n",
        "    X = []\n",
        "    y = []\n",
        "    lengths = []\n",
        "    sentences = []\n",
        "\n",
        "    for datum in batch:\n",
        "        X.append(datum[0])\n",
        "        lengths.append(datum[1])\n",
        "        y.append(datum[2])\n",
        "        sentences.append(datum[3])\n",
        "\n",
        "    return [torch.FloatTensor(X), torch.LongTensor(lengths), torch.FloatTensor(y), sentences]"
      ],
      "execution_count": 0,
      "outputs": []
    },
    {
      "metadata": {
        "id": "5BtVFSly3cSC",
        "colab_type": "code",
        "colab": {}
      },
      "cell_type": "code",
      "source": [
        "model1 = torch.load(\"model1.tar\")\n",
        "model2 = torch.load(\"model2.tar\")\n",
        "model3 = torch.load(\"model3.tar\")\n",
        "model4 = torch.load(\"model4.tar\")"
      ],
      "execution_count": 0,
      "outputs": []
    },
    {
      "metadata": {
        "id": "mjqtzy5L3hSP",
        "colab_type": "code",
        "colab": {}
      },
      "cell_type": "code",
      "source": [
        "%matplotlib inline\n",
        "\n",
        "import numpy as np\n",
        "import matplotlib.pyplot as plt\n",
        "def distr(array):\n",
        "    plt.scatter([i for i in range(len(array))], sorted(array))\n",
        "    plt.savefig('1.pdf')\n",
        "    plt.show()\n",
        "\n",
        "def nn(qvec, vectors, array, k=5):\n",
        "    qvec /= np.linalg.norm(qvec)\n",
        "    vectors = np.asarray([ i / np.linalg.norm(i) for i in vectors.tolist()])\n",
        "    scores = np.dot(qvec, vectors.T).flatten()\n",
        "    sorted_args = np.argsort(scores)[::-1]\n",
        "    sentences = [(array[a], scores[a]) for a in sorted_args[:k]]\n",
        "    for i, s in enumerate(sentences):\n",
        "        print (s, sorted_args[i])\n",
        "\n",
        "def analyse(predicted, actual, sentences, mode_vectors, mode_sentences): #mode can be train or test\n",
        "    \n",
        "    assert len(predicted) == len(actual), \"Check dimensions\"\n",
        "    \n",
        "    ranks = []\n",
        "    for p, a, s in zip(predicted, actual, sentences): #iterating through the batch 0-31\n",
        "        story = sen\n",
        "        scores = np.dot(p, mode_vectors.T).flatten()\n",
        "        score_actpred = np.dot(p, a)\n",
        "        #print(\"score of act and pred:\", score_actpred)\n",
        "        rank = -1\n",
        "        sorted_scores = sorted(scores, reverse=True)\n",
        "        for index, score in enumerate(sorted_scores):\n",
        "            if np.isclose(score, score_actpred):\n",
        "                rank = index\n",
        "                break\n",
        "\n",
        "        ranks.append(rank)\n",
        "\n",
        "    return ranks\n",
        "  \n",
        "def show_inp_out(actual, predicted, mode_vectors, mode_sentences):\n",
        "    \n",
        "    print(\"Actual Output\")\n",
        "    nn(actual.squeeze().tolist(), mode_vectors, mode_sentences, k=1)\n",
        "\n",
        "    print(\"Predicted Output\")\n",
        "    nn(predicted.squeeze().tolist(), mode_vectors, mode_sentences, k=5)"
      ],
      "execution_count": 0,
      "outputs": []
    },
    {
      "metadata": {
        "id": "dVoAbSW23mrR",
        "colab_type": "code",
        "colab": {
          "base_uri": "https://localhost:8080/",
          "height": 139
        },
        "outputId": "3d227203-1395-49f1-cf98-e287aecba4b0"
      },
      "cell_type": "code",
      "source": [
        "\n",
        "def get_loader(dataset, sentences):\n",
        "    test_dataset = StoryVectors(dataset, sentences)\n",
        "    test_loader = torch.utils.data.DataLoader(dataset=test_dataset,\n",
        "                                           batch_size=32,\n",
        "                                           collate_fn=vocab_collate_func,\n",
        "                                           shuffle=True,\n",
        "                                           num_workers=4)\n",
        "    return test_loader\n",
        "    \n",
        "\n",
        "\n",
        "def test_model(model, test_loader, test_vectors, test_sentences):\n",
        "    model.eval()\n",
        "    ranks = []\n",
        "    \n",
        "#     no, sample, dim = test_vectors.shape\n",
        "#     test_vectors = test_vectors.reshape(no*sample, dim)\n",
        "#     test_sentences = test_sentences.reshape(no*sample)\n",
        "\n",
        "    for data, lengths, labels, sentences in test_loader:\n",
        "        pred = model(data.to(device), lengths.to(device))\n",
        "        pred = pred.detach().cpu().numpy().squeeze()\n",
        "        labels = labels.detach().numpy().squeeze()  \n",
        "        #print(len(pred.tolist()), len(labels.tolist()))\n",
        "        batch_ranks = analyse(pred.tolist(), labels.tolist(), sentences, test_vectors,  test_sentences)\n",
        "        ranks.extend(batch_ranks)\n",
        "    return ranks\n",
        "\n",
        "test_loader1 = get_loader(test_dataset1, test_sentences1)\n",
        "test_loader2 = get_loader(test_dataset2, test_sentences2)\n",
        "test_loader3 = get_loader(test_dataset3, test_sentences3)\n",
        "test_loader4 = get_loader(test_dataset4, test_sentences4)\n",
        "\n",
        "\n",
        "print(\"Evaluating model 1\") \n",
        "ranks1 = test_model(model1, test_loader1, test_dataset1[-1], test_sentences1[-1]) \n",
        "\n",
        "print(\"Evaluating model 2\") \n",
        "ranks2 = test_model(model2, test_loader2, test_dataset2[-1], test_sentences2[-1]) \n",
        "\n",
        "print(\"Evaluating model 3\") \n",
        "ranks3 = test_model(model3, test_loader3, test_dataset3[-1], test_sentences3[-1])\n",
        "\n",
        "print(\"Evaluating model 4\") \n",
        "ranks4 = test_model(model4, test_loader4, test_dataset4[-1], test_sentences4[-1]) "
      ],
      "execution_count": 9,
      "outputs": [
        {
          "output_type": "stream",
          "text": [
            "Evaluating model 1\n"
          ],
          "name": "stdout"
        },
        {
          "output_type": "stream",
          "text": [
            "/usr/local/lib/python3.6/dist-packages/ipykernel_launcher.py:13: UserWarning: RNN module weights are not part of single contiguous chunk of memory. This means they need to be compacted at every call, possibly greatly increasing memory usage. To compact weights again call flatten_parameters().\n",
            "  del sys.path[0]\n"
          ],
          "name": "stderr"
        },
        {
          "output_type": "stream",
          "text": [
            "Evaluating model 2\n",
            "Evaluating model 3\n",
            "Evaluating model 4\n"
          ],
          "name": "stdout"
        }
      ]
    },
    {
      "metadata": {
        "id": "YYKTRjdd8QY1",
        "colab_type": "code",
        "colab": {}
      },
      "cell_type": "code",
      "source": [
        "np.save(\"ranks1\", ranks1)\n",
        "np.save(\"ranks2\", ranks2)\n",
        "np.save(\"ranks3\", ranks3)\n",
        "np.save(\"ranks4\", ranks4)\n",
        "\n",
        "#files.download(\"\")"
      ],
      "execution_count": 0,
      "outputs": []
    },
    {
      "metadata": {
        "id": "rZEuUd1kGdNO",
        "colab_type": "code",
        "colab": {
          "base_uri": "https://localhost:8080/",
          "height": 54
        },
        "outputId": "6b9ea647-0024-41eb-b303-3557f00c55db"
      },
      "cell_type": "code",
      "source": [
        "all_files = [(name, os.path.getmtime(name)) for name in os.listdir()]\n",
        "print(all_files)"
      ],
      "execution_count": 25,
      "outputs": [
        {
          "output_type": "stream",
          "text": [
            "[('.config', 1544221350.396336), ('test_vectors.npy', 1544224600.2521), ('train_vectors.npy', 1544224632.2050755), ('model4.tar', 1544224684.863036), ('adc.json', 1544221350.432336), ('ranks4.npy', 1544226981.482555), ('ranks1.npy', 1544226981.4805548), ('model1.tar', 1544224642.2520678), ('train_sentences.npy', 1544224634.2610738), ('4.png', 1544227276.9963114), ('model2.tar', 1544224656.7650568), ('model3.tar', 1544224671.0270462), ('ranks2.npy', 1544226981.4815547), ('test_sentences.npy', 1544224633.4190745), ('ranks3.npy', 1544226981.4815547), ('sample_data', 1544031593.0)]\n"
          ],
          "name": "stdout"
        }
      ]
    },
    {
      "metadata": {
        "id": "t04YsJIIHrw8",
        "colab_type": "code",
        "colab": {}
      },
      "cell_type": "code",
      "source": [
        "    \n",
        "def freq(array, name):\n",
        "  sns.set_style('whitegrid')\n",
        "  sns_plot = sns.distplot(np.array(array), kde=False, hist=True)\n",
        "  sns_plot.set(xlabel='Ranks', ylabel='Frequency')\n",
        "  #sns_plot.\n",
        "  fig = sns_plot.get_figure()\n",
        "  fig.savefig(name)\n",
        "    \n",
        "   "
      ],
      "execution_count": 0,
      "outputs": []
    },
    {
      "metadata": {
        "id": "yGigekOoKcUo",
        "colab_type": "code",
        "colab": {
          "base_uri": "https://localhost:8080/",
          "height": 279
        },
        "outputId": "939ebeb1-926f-434e-f978-f40056636a07"
      },
      "cell_type": "code",
      "source": [
        "freq(ranks4, \"4.pdf\")\n",
        "files.download('4.pdf')"
      ],
      "execution_count": 57,
      "outputs": [
        {
          "output_type": "display_data",
          "data": {
            "image/png": "[encoded data removed]",
            "text/plain": [
              "<matplotlib.figure.Figure at 0x7f38dfb42ef0>"
            ]
          },
          "metadata": {
            "tags": []
          }
        }
      ]
    },
    {
      "metadata": {
        "id": "4TpyfGTkGheT",
        "colab_type": "code",
        "colab": {}
      },
      "cell_type": "code",
      "source": [
        "files.download('ranks1.npy')\n",
        "files.download('ranks2.npy')\n",
        "files.download('ranks3.npy')\n",
        "files.download('ranks4.npy')"
      ],
      "execution_count": 0,
      "outputs": []
    },
    {
      "metadata": {
        "id": "1Fq6HK9aGxEZ",
        "colab_type": "code",
        "colab": {
          "base_uri": "https://localhost:8080/",
          "height": 279
        },
        "outputId": "f97e26b1-4fdd-4eb6-f698-7f538a1cdd97"
      },
      "cell_type": "code",
      "source": [
        "freq(ranks1, \"1.pdf\")\n",
        "files.download('1.pdf')\n",
        "\n",
        "freq(ranks2, \"2.pdf\")\n",
        "files.download('2.pdf')\n",
        "\n",
        "freq(ranks3, \"3.pdf\")\n",
        "files.download('3.pdf')\n",
        "\n",
        "freq(ranks4, \"4.pdf\")\n",
        "files.download('4.pdf')"
      ],
      "execution_count": 53,
      "outputs": [
        {
          "output_type": "display_data",
          "data": {
            "image/png": "[encoded data removed]",
            "text/plain": [
              "<matplotlib.figure.Figure at 0x7f38df834470>"
            ]
          },
          "metadata": {
            "tags": []
          }
        }
      ]
    },
    {
      "metadata": {
        "id": "ENqMn5paSkB4",
        "colab_type": "code",
        "colab": {
          "base_uri": "https://localhost:8080/",
          "height": 34
        },
        "outputId": "1de247a8-c101-4c15-c23d-c17cff0e3cc3"
      },
      "cell_type": "code",
      "source": [
        "test_dataset1.shape"
      ],
      "execution_count": 60,
      "outputs": [
        {
          "output_type": "execute_result",
          "data": {
            "text/plain": [
              "(2, 2577, 4800)"
            ]
          },
          "metadata": {
            "tags": []
          },
          "execution_count": 60
        }
      ]
    }
  ]
}